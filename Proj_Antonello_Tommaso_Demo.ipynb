{
  "cells": [
    {
      "cell_type": "markdown",
      "metadata": {
        "id": "view-in-github",
        "colab_type": "text"
      },
      "source": [
        "<a href=\"https://colab.research.google.com/github/IlariaZanella/Proj_knowledge25/blob/main/Proj_Antonello_Tommaso_Demo.ipynb\" target=\"_parent\"><img src=\"https://colab.research.google.com/assets/colab-badge.svg\" alt=\"Open In Colab\"/></a>"
      ]
    },
    {
      "cell_type": "code",
      "execution_count": 1,
      "metadata": {
        "colab": {
          "base_uri": "https://localhost:8080/"
        },
        "id": "s-1gNpGk96ka",
        "outputId": "fc3acc5e-e456-4ef6-f5eb-9478d98f179e"
      },
      "outputs": [
        {
          "output_type": "stream",
          "name": "stdout",
          "text": [
            "Automatic pdb calling has been turned ON\n"
          ]
        }
      ],
      "source": [
        "from sympy import symbols, simplify, Not, And, Or, Implies, satisfiable\n",
        "from itertools import combinations\n",
        "from functools import reduce\n",
        "#libreria per il debugging\n",
        "import pdb\n",
        "%pdb on\n"
      ]
    },
    {
      "cell_type": "code",
      "source": [
        "# ============================================================\n",
        "#  sd-DNNF compilation + Weighted Model Counting (SymPy)\n",
        "#  Pipeline: formula -> NNF -> DNNF -> d-DNNF -> sd-DNNF -> WMC\n",
        "# ============================================================\n",
        "\n",
        "from sympy import symbols, And, Or, Not, simplify, S\n",
        "from sympy.logic.boolalg import to_nnf\n",
        "from sympy.logic.inference import satisfiable\n",
        "\n",
        "# ---------------------------\n",
        "# Shannon expansion\n",
        "# ---------------------------\n",
        "def shannon_expansion(f, s):\n",
        "    \"\"\"\n",
        "    Shannon expansion of f on variable s:\n",
        "        f == (s ∧ f|s=True) ∨ (¬s ∧ f|s=False)\n",
        "    \"\"\"\n",
        "    if s not in f.free_symbols:\n",
        "        return f\n",
        "    f1 = f.subs({s: S.true})\n",
        "    f0 = f.subs({s: S.false})\n",
        "    return simplify(Or(And(s, f1), And(Not(s), f0)))\n",
        "\n",
        "# ---------------------------\n",
        "# Utilities for factorization\n",
        "# ---------------------------\n",
        "def _var_components(conj):\n",
        "    \"\"\"\n",
        "    Given a conjunction (And(...)), partition factors into variable-connected components:\n",
        "    factors that share variables end up in the same component.\n",
        "    This helps build decomposable ANDs (children with disjoint var sets).\n",
        "    \"\"\"\n",
        "    if isinstance(conj, And):\n",
        "        factors = list(conj.args)\n",
        "    else:\n",
        "        factors = [conj]\n",
        "    comps = []\n",
        "    while factors:\n",
        "        seed = factors.pop()\n",
        "        group = [seed]\n",
        "        vars_grp = set(seed.free_symbols)\n",
        "        changed = True\n",
        "        while changed:\n",
        "            changed = False\n",
        "            rest = []\n",
        "            for f in factors:\n",
        "                if vars_grp & set(f.free_symbols):\n",
        "                    group.append(f)\n",
        "                    vars_grp |= set(f.free_symbols)\n",
        "                    changed = True\n",
        "                else:\n",
        "                    rest.append(f)\n",
        "            factors = rest\n",
        "        comps.append(group)\n",
        "    return comps\n",
        "\n",
        "# ---------------------------\n",
        "# 1) NNF -> DNNF (decision-style)\n",
        "# ---------------------------\n",
        "def NNF2DNNF(nnf):\n",
        "    \"\"\"\n",
        "    Compile NNF -> DNNF.\n",
        "    - Se un AND si spezza in >1 componenti variabile-disgiunte, le compila e le congiunge (decomposable).\n",
        "    - Se NON si spezza (1 sola componente), fai fallback a Shannon su una variabile pivot.\n",
        "    - Gli OR si compilano ricorsivamente; la determinism la imponiamo dopo.\n",
        "    \"\"\"\n",
        "    atoms = list(nnf.free_symbols)\n",
        "    if len(atoms) <= 1:\n",
        "        return simplify(nnf)\n",
        "\n",
        "    if isinstance(nnf, And):\n",
        "        groups = _var_components(nnf)\n",
        "        if len(groups) > 1:\n",
        "            compiled = [\n",
        "                NNF2DNNF(And(*g)) if len(g) > 1 else NNF2DNNF(g[0])\n",
        "                for g in groups\n",
        "            ]\n",
        "            return simplify(And(*compiled))  # decomposable AND\n",
        "        else:\n",
        "            # niente decomposizione possibile -> forza un cambiamento strutturale con Shannon\n",
        "            pivot = atoms[0]\n",
        "            return NNF2DNNF(shannon_expansion(nnf, pivot))\n",
        "\n",
        "    if isinstance(nnf, Or):\n",
        "        kids = [NNF2DNNF(k) for k in nnf.args]\n",
        "        return simplify(Or(*kids))  # determinism verrà imposto dopo\n",
        "\n",
        "    # fallback generale (in pratica non dovresti arrivarci con NNF pulita)\n",
        "    pivot = atoms[0]\n",
        "    return NNF2DNNF(shannon_expansion(nnf, pivot))\n",
        "\n",
        "\n",
        "# ---------------------------\n",
        "# 2) DNNF -> d-DNNF (enforce determinism on OR)\n",
        "# ---------------------------\n",
        "def _make_or_deterministic(expr):\n",
        "    \"\"\"\n",
        "    Given Or(args), make it deterministic:\n",
        "    repeatedly split (with Shannon) while two children overlap (i.e., their conjunction is satisfiable).\n",
        "    \"\"\"\n",
        "    assert isinstance(expr, Or)\n",
        "    args = list(expr.args)\n",
        "\n",
        "    i = 0\n",
        "    while i < len(args):\n",
        "        j = i + 1\n",
        "        while j < len(args):\n",
        "            inter = And(args[i], args[j])\n",
        "            if satisfiable(inter):\n",
        "                # pick a pivot (try from the intersection; else from the union)\n",
        "                inter_vars = list(inter.free_symbols)\n",
        "                if inter_vars:\n",
        "                    pivot = inter_vars[0]\n",
        "                else:\n",
        "                    union_vars = list((args[i] | args[j]).free_symbols)\n",
        "                    pivot = union_vars[0] if union_vars else next(iter(expr.free_symbols))\n",
        "                # split the whole OR on pivot and restart\n",
        "                return _make_or_deterministic(shannon_expansion(Or(*args), pivot))\n",
        "            j += 1\n",
        "        i += 1\n",
        "    return Or(*args)\n",
        "\n",
        "def DNNF2dDNNF(dnnf):\n",
        "    \"\"\"\n",
        "    Recursively ensure every OR is deterministic.\n",
        "    AND remains as is (already decomposable from NNF2DNNF step).\n",
        "    \"\"\"\n",
        "    if isinstance(dnnf, And):\n",
        "        return And(*(DNNF2dDNNF(a) for a in dnnf.args))\n",
        "    if isinstance(dnnf, Or):\n",
        "        det_kids = Or(*(DNNF2dDNNF(a) for a in dnnf.args))\n",
        "        return _make_or_deterministic(det_kids)\n",
        "    return dnnf  # literal / True / False\n",
        "\n",
        "# ---------------------------\n",
        "# 3) Smoothing d-DNNF -> sd-DNNF\n",
        "# ---------------------------\n",
        "def _tau(v):\n",
        "    return Or(v, Not(v))  # tautology mentioning v\n",
        "\n",
        "def _vars(n):\n",
        "    return set(n.free_symbols)\n",
        "\n",
        "def ddnnf2sdNNF(ddnnf):\n",
        "    \"\"\"\n",
        "    Make every OR smooth: all children mention the same variable set.\n",
        "    Insert neutral tautologies (v ∨ ¬v) for missing variables in each child.\n",
        "    \"\"\"\n",
        "    if isinstance(ddnnf, And):\n",
        "        return And(*(ddnnf2sdNNF(a) for a in ddnnf.args))\n",
        "    if isinstance(ddnnf, Or):\n",
        "        kids = [ddnnf2sdNNF(a) for a in ddnnf.args]\n",
        "        allv = set().union(*(_vars(k) for k in kids))\n",
        "        smoothed = []\n",
        "        for k in kids:\n",
        "            missing = allv - _vars(k)\n",
        "            kk = k\n",
        "            for v in missing:\n",
        "                kk = And(kk, _tau(v))\n",
        "            smoothed.append(kk)\n",
        "        return Or(*smoothed)\n",
        "    return ddnnf  # literal / True / False\n",
        "\n",
        "# ---------------------------\n",
        "# 4) Weighted Model Counting on sd-DNNF\n",
        "# ---------------------------\n",
        "def model_counting_sdnf(sdNNF_formula, weights):\n",
        "    \"\"\"\n",
        "    Compute WMC bottom-up on an sd-DNNF:\n",
        "      - OR -> sum\n",
        "      - AND -> product\n",
        "      - literals -> weights[literal]\n",
        "    'weights' must map SymPy literals to floats, e.g. {a:0.6, Not(a):0.4, ...}\n",
        "    \"\"\"\n",
        "    if sdNNF_formula is S.true:\n",
        "        return 1.0\n",
        "    if sdNNF_formula is S.false:\n",
        "        return 0.0\n",
        "    if isinstance(sdNNF_formula, Or):\n",
        "        return sum(model_counting_sdnf(arg, weights) for arg in sdNNF_formula.args)\n",
        "    if isinstance(sdNNF_formula, And):\n",
        "        res = 1.0\n",
        "        for arg in sdNNF_formula.args:\n",
        "            res *= model_counting_sdnf(arg, weights)\n",
        "        return res\n",
        "    # literal\n",
        "    if sdNNF_formula in weights:\n",
        "        return float(weights[sdNNF_formula])\n",
        "    raise KeyError(f\"Manca il peso per {sdNNF_formula}. Attesi sia X che Not(X).\")\n",
        "\n",
        "# ---------------------------\n",
        "# Helper: full pipeline function\n",
        "# ---------------------------\n",
        "def compile_to_sdDNNF(F):\n",
        "    \"\"\"\n",
        "    Full pipeline from arbitrary propositional formula F:\n",
        "        F -> NNF -> DNNF -> d-DNNF -> sd-DNNF\n",
        "    \"\"\"\n",
        "    F_nnf = to_nnf(F, simplify=True)\n",
        "    F_dnnf = NNF2DNNF(F_nnf)\n",
        "    F_ddnnf = DNNF2dDNNF(F_dnnf)\n",
        "    F_sddnnf = ddnnf2sdNNF(F_ddnnf)\n",
        "    return simplify(F_sddnnf)\n"
      ],
      "metadata": {
        "id": "zhpPYk5h8wTO"
      },
      "execution_count": 4,
      "outputs": []
    },
    {
      "cell_type": "markdown",
      "source": [
        "per altri test case -> modifica sezione formula e pesi"
      ],
      "metadata": {
        "id": "Mz9H9sqDCBJu"
      }
    },
    {
      "cell_type": "code",
      "source": [
        "# ======= TEST CASE 2 — fatto dal prof a lezione (res = 136) =======\n",
        "\n",
        "from sympy import symbols, And, Or, Not, S\n",
        "from sympy.logic.boolalg import to_nnf\n",
        "\n",
        "\n",
        "# --- FORMULA ---\n",
        "a, b, c = symbols('a b c')\n",
        "F = Or(And(a, b), And(c, Not(a)))\n",
        "print(\"Formula:\", F)\n",
        "\n",
        "# --- PESI ---\n",
        "weights = {\n",
        "    a: 2,   Not(a): 1,\n",
        "    b: 5,   Not(b): 3,\n",
        "    c: 7,   Not(c): 1\n",
        "}\n",
        "\n",
        "# --- WMC con SMOOTHING NUMERICO su d-DNNF ---\n",
        "from functools import lru_cache\n",
        "\n",
        "def _vars(e): return set(e.free_symbols)\n",
        "\n",
        "@lru_cache(maxsize=None)\n",
        "def _vars_cached(e):\n",
        "    return _vars(e)\n",
        "\n",
        "def wmc_numeric(ddnnf, w):\n",
        "    \"\"\"\n",
        "    WMC su (d-)DNNF con smoothing numerico:\n",
        "      - literal: w[l]\n",
        "      - AND:     Π figli\n",
        "      - OR:      Σ  ( val(figlio) * Π_{v in Vars(OR)\\Vars(figlio)} (w[v] + w[~v]) )\n",
        "    Valido per pesi arbitrari (non normalizzati).\n",
        "    \"\"\"\n",
        "    if ddnnf is S.true:  return 1.0\n",
        "    if ddnnf is S.false: return 0.0\n",
        "\n",
        "    # literal\n",
        "    if ddnnf.is_Symbol:\n",
        "        return float(w[ddnnf])\n",
        "    if ddnnf.func is Not and ddnnf.args[0].is_Symbol:\n",
        "        return float(w[ddnnf])\n",
        "\n",
        "    # AND\n",
        "    if ddnnf.func is And:\n",
        "        out = 1.0\n",
        "        for ch in ddnnf.args:\n",
        "            out *= wmc_numeric(ch, w)\n",
        "        return out\n",
        "\n",
        "    # OR (numeric smoothing, no tautologies strutturali)\n",
        "    if ddnnf.func is Or:\n",
        "        allv = set().union(*(_vars_cached(ch) for ch in ddnnf.args))\n",
        "        tot = 0.0\n",
        "        for ch in ddnnf.args:\n",
        "            missing = allv - _vars_cached(ch)\n",
        "            factor = 1.0\n",
        "            for v in missing:\n",
        "                factor *= (float(w[v]) + float(w[Not(v)]))\n",
        "            tot += wmc_numeric(ch, w) * factor\n",
        "        return tot\n",
        "\n",
        "    raise ValueError(f\"Nodo non gestito: {ddnnf}\")\n",
        "\n",
        "# --- COMPILAZIONE FINO A d-DNNF (NO smoothing strutturale) ---\n",
        "F_nnf  = to_nnf(F, simplify=True)\n",
        "F_dnnf = NNF2DNNF(F_nnf)\n",
        "F_dd   = DNNF2dDNNF(F_dnnf)\n",
        "\n",
        "# --- WMC (d-DNNF, smoothing numerico) ---\n",
        "wmc_val = wmc_numeric(F_dd, weights)\n",
        "print(\"WMC (d-DNNF, smoothing numerico):\", wmc_val)\n",
        "\n",
        "# --- Verifica di riferimento (brute force, stessi pesi reali) ---\n",
        "\"\"\"\n",
        "  Questa funzione serve a:\n",
        "    -Verificare che il tuo algoritmo basato su sd-DNNF (o d-DNNF + smoothing numerico) produca lo stesso valore del WMC teorico.\n",
        "    -Fare da “oracolo” di verità nei test, anche se è inefficiente (cresce esponenzialmente con il numero di variabili).\n",
        "\"\"\"\n",
        "def brute_force_wmc(F, w):\n",
        "    vs = list(sorted(F.free_symbols, key=lambda s: s.name))\n",
        "    tot = 0.0\n",
        "    n = len(vs)\n",
        "    for mask in range(1 << n):\n",
        "        asg = {}\n",
        "        wgt = 1.0\n",
        "        for i, v in enumerate(vs):\n",
        "            val = bool((mask >> i) & 1)\n",
        "            asg[v] = val\n",
        "            wgt *= w[v] if val else w[Not(v)]\n",
        "        if bool(F.subs(asg)):\n",
        "            tot += wgt\n",
        "    return tot\n",
        "\n",
        "ref = brute_force_wmc(F, weights)\n",
        "print(\"WMC (brute force):                \", ref)\n",
        "\n",
        "ok = abs(wmc_val - ref) < 1e-12\n",
        "print(\"Confronto:\", \"OK ✅\" if ok else \"NO ❌\")\n"
      ],
      "metadata": {
        "id": "1uMGVZsx_h17",
        "outputId": "04e898bf-4b6c-4078-a03d-de705d6e3479",
        "colab": {
          "base_uri": "https://localhost:8080/"
        }
      },
      "execution_count": 7,
      "outputs": [
        {
          "output_type": "stream",
          "name": "stdout",
          "text": [
            "Formula: (a & b) | (c & ~a)\n",
            "WMC (d-DNNF, smoothing numerico): 136.0\n",
            "WMC (brute force):                 136.0\n",
            "Confronto: OK ✅\n"
          ]
        }
      ]
    },
    {
      "cell_type": "markdown",
      "metadata": {
        "id": "3MQOyLgWAqtM"
      },
      "source": [
        "ISTRUZIONI DEBUG\n",
        "\n",
        "\n",
        "\n",
        "*   n (next) Esegue la riga corrente e si ferma alla successiva (nello stesso livello)\n",
        "\n",
        "*   s (step) Entra all’interno della funzione chiamata nella riga corrente\n",
        "\n",
        "* c (continue) Continua l’esecuzione fino al prossimo breakpoint\n",
        "* r (return) Esegue fino alla fine della funzione corrente e si ferma dopo il return\n",
        "* l (list) Mostra le righe di codice attorno a quella attuale\n",
        "* ll: Mostra tutto il corpo della funzione corrente\n",
        "* u (up) Passa al frame precedente dello stack (chiamante)\n",
        "* d (down) Passa al frame successivo dello stack (chiamato)\n"
      ]
    },
    {
      "cell_type": "code",
      "execution_count": null,
      "metadata": {
        "colab": {
          "base_uri": "https://localhost:8080/",
          "height": 85
        },
        "id": "IisIJcnR999L",
        "outputId": "00f790de-7006-423f-8b7f-984531ebe181"
      },
      "outputs": [
        {
          "name": "stdout",
          "output_type": "stream",
          "text": [
            "5) entro in shannon_expansion(f,s)\n",
            "shannon {a | (b} & ~{a)\n",
            "shannon result <bound method Basic.subs of {a | (b} & ~{a)>\n"
          ]
        },
        {
          "data": {
            "text/latex": [
              "$\\displaystyle {a \\vee \\left(b} \\wedge \\neg {a\\right)$"
            ],
            "text/plain": [
              "{a | (b} & ~{a)"
            ]
          },
          "execution_count": 24,
          "metadata": {},
          "output_type": "execute_result"
        }
      ],
      "source": [
        "def shannon_expansion(f, s):\n",
        "\n",
        "    print(\"5) entro in shannon_expansion(f,s)\")\n",
        "    result = (s & f.subs(s, True)) | (~s & f.subs(s, False))\n",
        "    print(\"shannon\", result)\n",
        "    print(\"shannon result\", result.subs)\n",
        "    return result.subs({True: True, False: False})\n",
        "\n",
        "a, b = symbols('{a b}')\n",
        "f = Or(a, b)\n",
        "\n",
        "# Espansione rispetto ad 'a':\n",
        "shannon_expansion(f, a)"
      ]
    },
    {
      "cell_type": "markdown",
      "metadata": {
        "id": "V6FELO-G-PB_"
      },
      "source": [
        "## shannon_expansion(f,s)\n",
        "\n",
        "La funzione shannon_expansion(f, s) applica l’espansione di Shannon a una formula booleana f rispetto al letterale s, secondo il principio logico per cui una formula può essere riscritta come la disgiunzione di due congiunzioni condizionate sul valore del letterale: (s \\land f[s := \\text{True}]) \\lor (\\lnot s \\land f[s := \\text{False}]). Questo consente di scomporre la formula originaria in due rami distinti: uno in cui s è vero e uno in cui s è falso. Nella funzione, questa trasformazione viene effettuata utilizzando le sostituzioni offerte da SymPy (f.subs(s, True) e f.subs(s, False)) e combinando i risultati con gli operatori logici & (AND), | (OR) e ~ (NOT). Il risultato viene poi restituito con una sostituzione finale {True: True, False: False} per assicurare la corretta interpretazione dei valori booleani nel contesto della libreria. La funzione include anche alcune stampe di debug per mostrare il punto d’ingresso nella funzione e il risultato dell’espansione, sebbene una delle stampe (print(\"shannon result\", result.subs)) contenga un errore e mostri il metodo .subs invece del valore risultante. Questa funzione è particolarmente utile nella trasformazione di formule logiche in DNNF (Decomposable Negation Normal Form) e in tecniche di conteggio dei modelli (#SAT)."
      ]
    },
    {
      "cell_type": "code",
      "execution_count": null,
      "metadata": {
        "id": "c4NijoEVu-6z"
      },
      "outputs": [],
      "source": [
        "def common(sublist, group):\n",
        "\n",
        "    print(\"3) entro in common(sublist, group)\")\n",
        "    if len(sublist) == 0:\n",
        "        return group\n",
        "    list_atoms_sets = [s.atoms() - {True, False} for s in group]\n",
        "    print(\"list_atoms_sets\", list_atoms_sets)\n",
        "    list_atoms = reduce(lambda s1, s2: s1.union(s2), list_atoms_sets)\n",
        "    print(\"list_atoms\", list_atoms)\n",
        "    added = False\n",
        "    print(\"sublist\", sublist)\n",
        "    for f in sublist:\n",
        "        if len(list_atoms.intersection(f.atoms())) > 0:\n",
        "            group.append(f)\n",
        "            sublist.remove(f)\n",
        "            added = True\n",
        "    if not added:\n",
        "        return group\n",
        "    return common(sublist, group)\n",
        "\n",
        "def common_subs(form):\n",
        "\n",
        "    print(\"2) entro in common_subs(form)\")\n",
        "    subs = list(form.args)\n",
        "    all_groups = []\n",
        "    while len(subs) > 0:\n",
        "        sub1 = subs[0]\n",
        "        group = [sub1]\n",
        "        subs.remove(sub1)\n",
        "        group = common(subs, group)\n",
        "        all_groups.append(group)\n",
        "    return all_groups\n",
        "\n",
        "def common_atoms(subformulas):\n",
        "\n",
        "    print(\"4) entro in common_atoms(subformulas)\")\n",
        "    subformulas_atoms = [set(filter(lambda a: a not in [True, False], e.atoms())) for e in subformulas]\n",
        "    print(\"subformulas_atoms\" ,subformulas_atoms)\n",
        "    common_atoms_set = set()\n",
        "    for i, sub1 in enumerate(subformulas_atoms):\n",
        "        for sub2 in subformulas_atoms[i + 1:]:\n",
        "            common_atoms_set = common_atoms_set.union(sub1.intersection(sub2))\n",
        "    return common_atoms_set\n"
      ]
    },
    {
      "cell_type": "markdown",
      "metadata": {
        "id": "Mjwapurt-hkd"
      },
      "source": [
        "## Funzioni Common\n",
        "\n",
        "Le tre funzioni common, common_subs e common_atoms lavorano in sinergia per analizzare la struttura di una formula booleana composta, con l’obiettivo di raggruppare sottoformule che condividono variabili (atomi) comuni.\n",
        "\n",
        "La funzione common(sublist, group) riceve in input due liste di sottoformule logiche: sublist, che contiene le sottoformule da esaminare, e group, un gruppo iniziale di sottoformule già raccolte. Il suo compito è quello di estendere ricorsivamente il gruppo group aggiungendovi tutte le sottoformule di sublist che condividono almeno un letterale (variabile booleana) con le formule già presenti nel gruppo. Per fare questo, la funzione estrae gli atomi da ogni formula in group, li unisce in un unico insieme list_atoms, e verifica per ogni formula di sublist se vi è intersezione tra i suoi atomi e quelli già presenti nel gruppo. Se sì, la formula viene spostata nel gruppo. Questo processo si ripete finché non si possono aggiungere ulteriori formule, ottenendo un gruppo coerente di sottoformule interconnesse.\n",
        "\n",
        "La funzione common_subs(form) utilizza common per suddividere i\n",
        "sottoargomenti (sottoformule) diretti di una formula composta form in gruppi omogenei. Inizia prelevando tutte le sottoformule al primo livello (gli argomenti principali di form), e per ciascuna di esse costruisce un gruppo, che viene poi completato usando la funzione common per includere tutte le altre sottoformule che condividono almeno un atomo con quella iniziale. Alla fine, common_subs restituisce una lista di gruppi di sottoformule logicamente connesse.\n",
        "\n",
        "Infine, la funzione common_atoms(subformulas) serve a identificare gli atomi (letterali) che sono comuni a più sottoformule. Per ogni formula nella lista subformulas, viene calcolato l’insieme dei suoi atomi escludendo i valori booleani True e False. La funzione quindi confronta ogni coppia di sottoformule e raccoglie l’intersezione tra i loro insiemi di atomi, unendo progressivamente i risultati in un insieme unico common_atoms_set. In questo modo, individua le variabili condivise tra almeno due sottoformule, informazione utile per operazioni come l’espansione di Shannon o la decomposizione logica."
      ]
    },
    {
      "cell_type": "code",
      "execution_count": null,
      "metadata": {
        "id": "eyWZG-lI-C0P"
      },
      "outputs": [],
      "source": [
        "def NNF2DNNF(nnf):\n",
        "\n",
        "    print(\"1) entro in NNF2DNNF(nnf)\")\n",
        "    atoms = list(filter(lambda x: x not in [True, False], nnf.atoms()))\n",
        "    print(\"atoms\", atoms)\n",
        "    if len(atoms) <= 1:\n",
        "\n",
        "        print()\n",
        "        return nnf.subs({True | False: True, False | True: True, True & False: False, False & True: False})\n",
        "    all_groups = common_subs(nnf)\n",
        "    print(\"all_groups\", all_groups)\n",
        "    result_subformulas = []\n",
        "    for subformulas in all_groups:\n",
        "        if len(subformulas) == 1:\n",
        "            result_subformulas.append(NNF2DNNF(subformulas[0]))\n",
        "        else:\n",
        "            args = list(filter(lambda x: x != True, subformulas))\n",
        "            new_expr = reduce(lambda e1, e2: e1 & e2, args)\n",
        "            cmn_atoms = common_atoms(subformulas)\n",
        "            common_atom = cmn_atoms.pop()\n",
        "            result_subformulas.append(NNF2DNNF(shannon_expansion(new_expr, common_atom)))\n",
        "    return reduce(lambda e1, e2: e1 & e2, result_subformulas).subs({True | False: True, False | True: True, True & False: False, False & True: False})\n",
        "\n"
      ]
    },
    {
      "cell_type": "markdown",
      "metadata": {
        "id": "xhdnppgk-sf8"
      },
      "source": [
        "## Funzione NNF2DNNF(nnf)\n",
        "\n",
        "La funzione NNF2DNNF(nnf) ha lo scopo di trasformare una formula logica in Forma Normale di Negazione (NNF) nella sua equivalente Forma Normale di Negazione Decomponibile (DNNF), utilizzando una procedura ricorsiva basata sull’espansione di Shannon e sulla suddivisione strutturata della formula.\n",
        "\n",
        "All’inizio, la funzione stampa un messaggio di debug e raccoglie tutti gli atomi (cioè le variabili booleane) presenti nella formula nnf, escludendo i valori costanti True e False. Se la formula contiene al più un solo atomo, viene considerata già in forma decomponibile e la funzione la restituisce direttamente, applicando una sostituzione di semplificazione logica (ad esempio True | False → True, True & False → False).\n",
        "\n",
        "Nel caso in cui siano presenti più atomi, la formula viene suddivisa nei suoi argomenti principali attraverso la funzione common_subs, che raggruppa sottoformule collegate tra loro da variabili comuni. Per ciascun gruppo così ottenuto, se il gruppo contiene solo una formula, questa viene trasformata ricorsivamente tramite NNF2DNNF. Se invece il gruppo contiene più formule, esse vengono congiunte (&) in un’unica espressione, dalla quale viene selezionato un atomo comune tramite la funzione common_atoms. Questo atomo viene usato per applicare l’espansione di Shannon alla formula congiunta, e il risultato viene anch’esso trasformato ricorsivamente in DNNF. Tutti i risultati parziali vengono infine ricombinati tramite l’operatore &, e la formula finale viene semplificata come nei passaggi precedenti.\n",
        "\n",
        "Nel complesso, NNF2DNNF costruisce una forma decomponibile della formula, assicurandosi che ogni congiunzione combini solo sottoformule su insiemi disgiunti di variabili, un requisito fondamentale per l’efficienza del model counting e della conoscenza compilata in rappresentazioni tipo DNNF."
      ]
    },
    {
      "cell_type": "code",
      "execution_count": null,
      "metadata": {
        "id": "tOeqcvZu-F-C"
      },
      "outputs": [],
      "source": [
        "def DNNF2dDNNF(dnnf):\n",
        "\n",
        "    print(\"entro in DNNF2dDNNF(dnnf)\")\n",
        "    pdb.set_trace()\n",
        "    atoms = list(filter(lambda x: x not in [True, False], dnnf.atoms()))\n",
        "\n",
        "    print(\"atoms DNNF2dDNNF\", atoms)\n",
        "    if dnnf.func == And:\n",
        "        return reduce(lambda x, y: x & y, deterministic_subs).subs({True | False: True, False | True: True, True & False: False, False & True: False})\n",
        "    result = reduce(lambda x, y: x | y, deterministic_subs).subs({True | False: True, False | True: True, True & False: False, False & True: False})\n",
        "    for subexp1, subexp2 in combinations(deterministic_subs, 2):\n",
        "        form = subexp1 & subexp2\n",
        "        if satisfiable(form.subs({True: True, False: False})):\n",
        "            sep = form.atoms().difference({True, False}).pop()\n",
        "            expanded = shannon_expansion(result, sep).subs({True | False: True, False | True: True, True & False: False, False & True: False})\n",
        "            return DNNF2dDNNF(expanded)\n",
        "    return result"
      ]
    },
    {
      "cell_type": "markdown",
      "metadata": {
        "id": "QAg-E_tV-2Es"
      },
      "source": [
        "## Funzione DNNF2dDNNF(dnnf)\n",
        "\n",
        "La funzione DNNF2dDNNF(dnnf) ha lo scopo di trasformare una formula in DNNF (Decomposable Negation Normal Form) in una d-DNNF (deterministic DNNF), ovvero una rappresentazione in cui ogni disgiunzione è deterministica, cioè le sue disgiunzioni non possono essere vere contemporaneamente.\n",
        "\n",
        "All’inizio, la funzione stampa un messaggio di debug e attiva un breakpoint tramite pdb.set_trace() per l’ispezione passo-passo del codice durante l’esecuzione (utile in fase di sviluppo). Subito dopo, estrae tutti gli atomi (variabili booleane) presenti nella formula dnnf, escludendo i valori True e False.\n",
        "\n",
        "Tuttavia, c’è un errore nel codice: la variabile deterministic_subs non è mai definita né passata come parametro, ma viene usata due volte:\n",
        "\t•\tuna prima volta nel caso in cui la formula sia una congiunzione (And), applicando la reduce con &\n",
        "\t•\tuna seconda volta per la disgiunzione (Or) e per analizzare ogni coppia di sottoespressioni\n",
        "\n",
        "Presumibilmente, deterministic_subs avrebbe dovuto essere qualcosa come list(dnnf.args) o simile, contenente le sottoformule della disgiunzione/congiunzione da elaborare. Correggendo ciò, la funzione dovrebbe:\n",
        "\t1.\tSe la formula è una congiunzione (And), restituire la congiunzione dei suoi sottotermini, semplificata.\n",
        "\t2.\tSe invece è una disgiunzione (Or), tentare di verificare se le sue disgiunzioni si sovrappongono. Per ogni coppia di sottoformule (subexp1, subexp2), calcola subexp1 & subexp2, e verifica se è soddisfacibile.\n",
        "\t•\tSe sì, significa che le due disgiunzioni non sono deterministiche, quindi applica l’espansione di Shannon rispetto a una variabile discriminante (sep), ricavata dagli atomi della loro intersezione.\n",
        "\t•\tLa formula espansa viene trasformata ricorsivamente con DNNF2dDNNF.\n",
        "\n",
        "Se nessuna sovrapposizione viene trovata (quindi la formula è già deterministica), restituisce il risultato.\n",
        "\n",
        "In sintesi, questa funzione cerca di forzare la disgiunzione deterministica usando espansioni di Shannon ogni volta che trova delle sovrapposizioni logiche, con l’obiettivo di ottenere una rappresentazione deterministica utile per ottimizzare operazioni come il model counting. Tuttavia, per funzionare correttamente, va corretta la definizione mancante di deterministic_subs."
      ]
    },
    {
      "cell_type": "code",
      "execution_count": null,
      "metadata": {
        "id": "BTbU9b6Tu-64"
      },
      "outputs": [],
      "source": [
        "from sympy import symbols, Or, And, Not\n",
        "\n",
        "def smooth_left(formula):\n",
        "\n",
        "    print(\"entro in smooth_left(formula)\")\n",
        "    if isinstance(formula, Or):\n",
        "        p_set = formula.args[1].free_symbols - formula.args[0].free_symbols\n",
        "    return formula\n",
        "\n",
        "def smooth_right(formula):\n",
        "\n",
        "    print(\"entro in smooth_right(formula)\")\n",
        "    if isinstance(formula, Or):\n",
        "        p_set = formula.args[0].free_symbols - formula.args[1].free_symbols\n",
        "        if p_set:\n",
        "            p = p_set.pop()\n",
        "            return Or(formula.args[0], And(formula.args[1], Or(p, Not(p))))\n",
        "    return formula\n",
        "\n",
        "def get_subformulas(formula):\n",
        "\n",
        "    print(\"entro in get_subformulas(formula)\")\n",
        "    subformulas = set()\n",
        "    def traverse(node):\n",
        "        subformulas.add(node)\n",
        "        for arg in node.args:\n",
        "            traverse(arg)\n",
        "    traverse(formula)\n",
        "    print(\"traverse \", traverse(formula))\n",
        "    return list(subformulas)\n",
        "\n"
      ]
    },
    {
      "cell_type": "markdown",
      "metadata": {
        "id": "ot0GyePU_NnL"
      },
      "source": [
        "## Funzioni Smooth Left, Right e get_subformulas\n",
        "\n",
        "Queste tre funzioni (smooth_left, smooth_right e get_subformulas) sono progettate per lavorare su formule booleane espresse in termini di oggetti di sympy, e servono in particolare a rendere “smooth” le disgiunzioni e a estrarre sottoformule da una formula complessa. Ecco una spiegazione lineare per ciascuna funzione:\n",
        "\n",
        "⸻\n",
        "\n",
        "La funzione smooth_left(formula) serve teoricamente a rendere la parte sinistra di una disgiunzione “smooth”, cioè compatibile in termini di variabili con la parte destra. In pratica, controlla se l’input formula è una disgiunzione (Or). Se lo è, calcola l’insieme delle variabili (free_symbols) che compaiono nella seconda parte della disgiunzione (formula.args[1]) ma non nella prima (formula.args[0]), salvandolo in p_set. Tuttavia, nella versione attuale della funzione, questo insieme viene calcolato ma non viene utilizzato per modificare la formula. La funzione restituisce quindi semplicemente la formula originale, rendendo il corpo della funzione inefficace nel suo intento.\n",
        "\n",
        "La funzione smooth_right(formula) ha invece un comportamento attivo. Dopo aver verificato che la formula sia una disgiunzione (Or), identifica le variabili che compaiono nella prima parte ma non nella seconda (formula.args[0].free_symbols - formula.args[1].free_symbols). Se esistono tali variabili, seleziona una di esse (p) e modifica la parte destra della disgiunzione includendovi un termine “dummy” della forma (p ∨ ¬p) congiunto alla parte destra originaria. Questo termine è logicamente neutro (è sempre vero), ma ha l’effetto di rendere la formula “smooth”, cioè di assicurare che le due parti della disgiunzione condividano le stesse variabili, requisito utile in compilazioni come d-DNNF o sd-DNNF.\n",
        "\n",
        "Infine, la funzione get_subformulas(formula) ha il compito di raccogliere tutte le sottoformule contenute in una formula logica, comprese le più nidificate. Utilizza una funzione interna traverse per visitare ricorsivamente ogni nodo della formula, aggiungendolo a un insieme subformulas. Dopo aver attraversato l’intera struttura, restituisce tutte le sottoformule come lista. L’invocazione di traverse(formula) all’interno del print() è però superflua, perché la funzione traverse non restituisce nulla; stampa quindi None. Il cuore della funzione è comunque corretto e utile per analisi strutturali della formula."
      ]
    },
    {
      "cell_type": "code",
      "execution_count": null,
      "metadata": {
        "id": "YCYUXmvD_G0C"
      },
      "outputs": [],
      "source": [
        "def ddnnf2sdNNF(ddnnf_formula):\n",
        "\n",
        "    print(\"entro in ddnnf2sdNNF(ddnnf_formula)\")\n",
        "    new_formula = ddnnf_formula\n",
        "    while True:\n",
        "        args = get_subformulas(new_formula)\n",
        "        print(\"args\", args)\n",
        "        transformed = False\n",
        "        for i in range(len(args)):\n",
        "            if isinstance(args[i], Or):\n",
        "                new_sub = smooth_right(args[i])\n",
        "                new_sub = smooth_left(new_sub)\n",
        "                if new_sub != args[i]:\n",
        "                    new_formula = new_formula.subs(args[i+1], new_sub)\n",
        "                    transformed = True\n",
        "        if not transformed or new_formula == formula:\n",
        "            break\n",
        "        ddnnf_formula = new_formula\n",
        "    return new_formula"
      ]
    },
    {
      "cell_type": "markdown",
      "metadata": {
        "id": "sOsCo4Cv_b5U"
      },
      "source": [
        "## Funzione ddnnf2sdNNF(ddnnf_formula)\n",
        "\n",
        "\n",
        "La funzione **ddnnf2sdNNF(ddnnf_formula)** ha l’obiettivo di trasformare una formula logica in forma d-DNNF (deterministic decomposable negation normal form) nella sua versione sd-DNNF (smooth deterministic DNNF), cioè una forma in cui ogni disgiunzione è non solo deterministica, ma anche smooth, ovvero le disgiunzioni condividono lo stesso insieme di variabili libere (atomi).\n",
        "\n",
        "Il procedimento si svolge nel seguente modo:\n",
        "\n",
        "All’inizio, la formula in input ddnnf_formula viene copiata nella variabile new_formula, che sarà progressivamente modificata. La funzione entra poi in un ciclo while True che continuerà fino a che non si verificheranno due condizioni: nessuna trasformazione è più possibile (transformed == False) oppure la formula non cambia più rispetto a una versione precedente.\n",
        "\n",
        "All’interno del ciclo, si ricavano tutte le sottoformule contenute in new_formula utilizzando la funzione get_subformulas. Successivamente, per ciascuna sottoformula, si verifica se essa è una disgiunzione (Or). Se lo è, la funzione la sottopone prima alla trasformazione smooth_right, poi a smooth_left: entrambe hanno lo scopo di riequilibrare le disgiunzioni in modo che tutti i loro argomenti condividano lo stesso insieme di variabili.\n",
        "\n",
        "Se la formula risultante (new_sub) è diversa da quella originale (args[i]), allora viene sostituita all’interno della formula complessiva tramite subs, e si imposta transformed = True per indicare che è stata effettuata una modifica.\n",
        "\n",
        "Il ciclo termina quando nessuna nuova trasformazione è stata effettuata (transformed == False) o quando la formula risultante è uguale alla formula di riferimento (new_formula == formula). Tuttavia, qui c’è un errore: la variabile formula non è definita nel contesto della funzione, e quindi questo confronto causerà un errore in fase di esecuzione. L’intento era probabilmente confrontare con ddnnf_formula o con una copia della formula iniziale.\n",
        "\n",
        "Alla fine del ciclo, la funzione restituisce new_formula, che rappresenta la versione smooth della formula originale.\n",
        "\n",
        "In sintesi, ddnnf2sdNNF assicura che tutte le disgiunzioni presenti nella formula rispettino la proprietà di smoothness, fondamentale per alcune tecniche di inferenza e di conteggio dei modelli su rappresentazioni in d-DNNF.\n"
      ]
    },
    {
      "cell_type": "code",
      "execution_count": null,
      "metadata": {
        "id": "5EJdDVMbu-64"
      },
      "outputs": [],
      "source": [
        "def model_counting_sdnf(sdNNF_formula, weights):\n",
        "\n",
        "    print(\"6) entro in model_counting_sdnf(sdNNF_formula, weights)\")\n",
        "    if isinstance(sdNNF_formula, Or):\n",
        "        print(\"or\")\n",
        "        result = 0\n",
        "        for arg in sdNNF_formula.args:\n",
        "            result += model_counting_sdnf(arg, weights)\n",
        "        return result\n",
        "    elif isinstance(sdNNF_formula, And):\n",
        "        print(\"and\")\n",
        "        result = 1\n",
        "        for arg in sdNNF_formula.args:\n",
        "            result *= model_counting_sdnf(arg, weights)\n",
        "        return result\n",
        "    else:\n",
        "        print(\"else\")\n",
        "        if sdNNF_formula in weights:\n",
        "            return weights[sdNNF_formula]"
      ]
    },
    {
      "cell_type": "markdown",
      "metadata": {
        "id": "RUWA5f81_m23"
      },
      "source": [
        "## Funzione model_counting_sdnf(sdNNF_formula, weights)\n",
        "\n",
        "La funzione model_counting_sdnf(sdNNF_formula, weights) implementa un algoritmo ricorsivo di model counting per formule booleane espresse in forma sd-DNNF (smooth deterministic decomposable negation normal form). L’obiettivo è calcolare il numero totale di modelli soddisfacenti (o la loro probabilità, se i pesi sono probabilistici) della formula data, utilizzando la sua struttura logica decomponibile.\n",
        "\n",
        "Ecco una spiegazione lineare della funzione:\n",
        "\n",
        "La funzione riceve due parametri:\n",
        "\t•\tsdNNF_formula: una formula logica già trasformata in sd-DNNF.\n",
        "\t•\tweights: un dizionario che associa a ciascun letterale (e alla sua negazione) un valore numerico, tipicamente una probabilità o peso.\n",
        "\n",
        "All’ingresso, viene stampato un messaggio di debug per indicare che è stata chiamata. Poi, la funzione controlla la struttura della formula:\n",
        "\t1.\tSe la formula è una disgiunzione (Or), allora:\n",
        "\t•\tSi inizializza result = 0.\n",
        "\t•\tSi itera su ciascun argomento della disgiunzione (arg in sdNNF_formula.args).\n",
        "\t•\tPer ciascun argomento si richiama ricorsivamente model_counting_sdnf e si somma il risultato.\n",
        "\t•\tQuesto riflette il fatto che in una disgiunzione deterministica, i modelli dei rami sono mutuamente esclusivi, quindi i conteggi possono essere sommati direttamente.\n",
        "\t2.\tSe la formula è una congiunzione (And), allora:\n",
        "\t•\tSi inizializza result = 1.\n",
        "\t•\tSi moltiplicano i risultati ottenuti ricorsivamente su ciascun argomento.\n",
        "\t•\tQuesto è corretto perché nella decomposizione, i congiunti usano insiemi di variabili disgiunti, quindi i conteggi possono essere moltiplicati.\n",
        "\t3.\tSe la formula è un letterale (caso base dell’albero ricorsivo):\n",
        "\t•\tSi verifica se è presente nei pesi (if sdNNF_formula in weights:) e, in tal caso, si restituisce il peso associato (es. 0.5 per una variabile booleana equiprobabile).\n",
        "\t•\tNon viene gestito il caso in cui il letterale non sia nel dizionario dei pesi: se ciò accade, la funzione non restituisce nulla (restituirebbe None), il che può causare errori a valle. Per sicurezza, andrebbe aggiunto un else che solleva un’eccezione o restituisce un valore predefinito.\n",
        "\n",
        "In sintesi, la funzione sfrutta la struttura composizionale della sd-DNNF per calcolare il numero di modelli soddisfacenti in modo efficiente e corretto, combinando somma e prodotto in base alla struttura logica della formula. Questa è una delle principali applicazioni della compilazione logica in DNNF e rappresenta un’alternativa più scalabile rispetto all’enumerazione esplicita dei modelli."
      ]
    },
    {
      "cell_type": "markdown",
      "metadata": {
        "id": "YBbnbD6r_A3S"
      },
      "source": [
        "# TEST 1"
      ]
    },
    {
      "cell_type": "code",
      "execution_count": null,
      "metadata": {
        "colab": {
          "base_uri": "https://localhost:8080/"
        },
        "id": "Id1T3DxXNVgf",
        "outputId": "7795df63-66e4-482a-ffd3-c98bc90ae005"
      },
      "outputs": [
        {
          "name": "stdout",
          "output_type": "stream",
          "text": [
            "A\n",
            "<class 'sympy.core.symbol.Symbol'>\n",
            "B\n",
            "C\n",
            "\n",
            " nnf ,  (A & C) | (B & ~A)\n",
            "1) entro in NNF2DNNF(nnf)\n",
            "atoms [A, C, B]\n",
            "2) entro in common_subs(form)\n",
            "3) entro in common(sublist, group)\n",
            "list_atoms_sets [{A, C}]\n",
            "list_atoms {A, C}\n",
            "sublist [B & ~A]\n",
            "3) entro in common(sublist, group)\n",
            "all_groups [[A & C, B & ~A]]\n",
            "4) entro in common_atoms(subformulas)\n",
            "subformulas_atoms [{A, C}, {A, B}]\n",
            "5) entro in shannon_expansion(f,s)\n",
            "shannon False\n",
            "shannon result <bound method Basic.subs of False>\n",
            "1) entro in NNF2DNNF(nnf)\n",
            "atoms []\n",
            "\n",
            "\n",
            " dnnf False\n",
            "6) entro in model_counting_sdnf(sdNNF_formula, weights)\n",
            "else\n",
            "\n",
            " Formula: (A | B) & (C | ~A)\n",
            "DNNF: False\n",
            "Weighted Model Count: None\n"
          ]
        }
      ],
      "source": [
        "#test1\n",
        "\n",
        "A, B, C = symbols('A B C')\n",
        "print(A)\n",
        "print(type(A))\n",
        "print(B)\n",
        "print(C)\n",
        "\n",
        "formula = And(Or(A, B), Or(Not(A), C))  # (A ∨ B) ∧ (¬A ∨ C)\n",
        "\n",
        "nnf = simplify(formula)\n",
        "print(\"\\n nnf , \", nnf)\n",
        "dnnf = NNF2DNNF(nnf)\n",
        "print(\"\\n dnnf\" , dnnf)\n",
        "\n",
        "weights = {\n",
        "    A: 0.7, Not(A): 0.3,\n",
        "    B: 0.6, Not(B): 0.4,\n",
        "    C: 0.8, Not(C): 0.2,\n",
        "}\n",
        "\n",
        "wmc = model_counting_sdnf(dnnf, weights)\n",
        "\n",
        "print(\"\\n Formula:\", formula)\n",
        "print(\"DNNF:\", dnnf)\n",
        "print(\"Weighted Model Count:\", wmc)\n"
      ]
    },
    {
      "cell_type": "markdown",
      "metadata": {
        "id": "PjbUv3-E-7z4"
      },
      "source": [
        "# TEST 2"
      ]
    },
    {
      "cell_type": "code",
      "execution_count": null,
      "metadata": {
        "colab": {
          "base_uri": "https://localhost:8080/",
          "height": 1000
        },
        "id": "RX393o8D6AZj",
        "outputId": "60e10c13-e959-475b-a24a-90ae1a933555"
      },
      "outputs": [
        {
          "name": "stdout",
          "output_type": "stream",
          "text": [
            "1) entro in NNF2DNNF(nnf)\n",
            "atoms [b, c}, {a]\n",
            "2) entro in common_subs(form)\n",
            "3) entro in common(sublist, group)\n",
            "list_atoms_sets [{c}}]\n",
            "list_atoms {c}}\n",
            "sublist [{a & ~b]\n",
            "3) entro in common(sublist, group)\n",
            "all_groups [[c}], [{a & ~b]]\n",
            "1) entro in NNF2DNNF(nnf)\n",
            "atoms [c}]\n",
            "\n",
            "1) entro in NNF2DNNF(nnf)\n",
            "atoms [b, {a]\n",
            "2) entro in common_subs(form)\n",
            "3) entro in common(sublist, group)\n",
            "list_atoms_sets [{{a}]\n",
            "list_atoms {{a}\n",
            "sublist [~b]\n",
            "3) entro in common(sublist, group)\n",
            "all_groups [[{a], [~b]]\n",
            "1) entro in NNF2DNNF(nnf)\n",
            "atoms [{a]\n",
            "\n",
            "1) entro in NNF2DNNF(nnf)\n",
            "atoms [b]\n",
            "\n",
            "entro in DNNF2dDNNF(dnnf)\n",
            "> \u001b[0;32m/tmp/ipython-input-988299595.py\u001b[0m(5)\u001b[0;36mDNNF2dDNNF\u001b[0;34m()\u001b[0m\n",
            "\u001b[0;32m      3 \u001b[0;31m    \u001b[0mprint\u001b[0m\u001b[0;34m(\u001b[0m\u001b[0;34m\"entro in DNNF2dDNNF(dnnf)\"\u001b[0m\u001b[0;34m)\u001b[0m\u001b[0;34m\u001b[0m\u001b[0;34m\u001b[0m\u001b[0m\n",
            "\u001b[0m\u001b[0;32m      4 \u001b[0;31m    \u001b[0mpdb\u001b[0m\u001b[0;34m.\u001b[0m\u001b[0mset_trace\u001b[0m\u001b[0;34m(\u001b[0m\u001b[0;34m)\u001b[0m\u001b[0;34m\u001b[0m\u001b[0;34m\u001b[0m\u001b[0m\n",
            "\u001b[0m\u001b[0;32m----> 5 \u001b[0;31m    \u001b[0matoms\u001b[0m \u001b[0;34m=\u001b[0m \u001b[0mlist\u001b[0m\u001b[0;34m(\u001b[0m\u001b[0mfilter\u001b[0m\u001b[0;34m(\u001b[0m\u001b[0;32mlambda\u001b[0m \u001b[0mx\u001b[0m\u001b[0;34m:\u001b[0m \u001b[0mx\u001b[0m \u001b[0;32mnot\u001b[0m \u001b[0;32min\u001b[0m \u001b[0;34m[\u001b[0m\u001b[0;32mTrue\u001b[0m\u001b[0;34m,\u001b[0m \u001b[0;32mFalse\u001b[0m\u001b[0;34m]\u001b[0m\u001b[0;34m,\u001b[0m \u001b[0mdnnf\u001b[0m\u001b[0;34m.\u001b[0m\u001b[0matoms\u001b[0m\u001b[0;34m(\u001b[0m\u001b[0;34m)\u001b[0m\u001b[0;34m)\u001b[0m\u001b[0;34m)\u001b[0m\u001b[0;34m\u001b[0m\u001b[0;34m\u001b[0m\u001b[0m\n",
            "\u001b[0m\u001b[0;32m      6 \u001b[0;31m\u001b[0;34m\u001b[0m\u001b[0m\n",
            "\u001b[0m\u001b[0;32m      7 \u001b[0;31m    \u001b[0mprint\u001b[0m\u001b[0;34m(\u001b[0m\u001b[0;34m\"atoms DNNF2dDNNF\"\u001b[0m\u001b[0;34m,\u001b[0m \u001b[0matoms\u001b[0m\u001b[0;34m)\u001b[0m\u001b[0;34m\u001b[0m\u001b[0;34m\u001b[0m\u001b[0m\n",
            "\u001b[0m\n",
            "ipdb> c\n",
            "atoms DNNF2dDNNF [b, c}, {a]\n"
          ]
        },
        {
          "ename": "NameError",
          "evalue": "name 'deterministic_subs' is not defined",
          "output_type": "error",
          "traceback": [
            "\u001b[0;31m---------------------------------------------------------------------------\u001b[0m",
            "\u001b[0;31mNameError\u001b[0m                                 Traceback (most recent call last)",
            "\u001b[0;32m/tmp/ipython-input-3908302272.py\u001b[0m in \u001b[0;36m<cell line: 0>\u001b[0;34m()\u001b[0m\n\u001b[1;32m      9\u001b[0m \u001b[0;31m# Step 3: Conversione in DNNF e poi in d-DNNF\u001b[0m\u001b[0;34m\u001b[0m\u001b[0;34m\u001b[0m\u001b[0m\n\u001b[1;32m     10\u001b[0m \u001b[0mdnnf\u001b[0m \u001b[0;34m=\u001b[0m \u001b[0mNNF2DNNF\u001b[0m\u001b[0;34m(\u001b[0m\u001b[0mformula\u001b[0m\u001b[0;34m)\u001b[0m\u001b[0;34m\u001b[0m\u001b[0;34m\u001b[0m\u001b[0m\n\u001b[0;32m---> 11\u001b[0;31m \u001b[0mddnnf\u001b[0m \u001b[0;34m=\u001b[0m \u001b[0mDNNF2dDNNF\u001b[0m\u001b[0;34m(\u001b[0m\u001b[0mdnnf\u001b[0m\u001b[0;34m)\u001b[0m\u001b[0;34m\u001b[0m\u001b[0;34m\u001b[0m\u001b[0m\n\u001b[0m\u001b[1;32m     12\u001b[0m \u001b[0msddnnf\u001b[0m \u001b[0;34m=\u001b[0m \u001b[0mddnnf2sdNNF\u001b[0m\u001b[0;34m(\u001b[0m\u001b[0mddnnf\u001b[0m\u001b[0;34m)\u001b[0m\u001b[0;34m\u001b[0m\u001b[0;34m\u001b[0m\u001b[0m\n\u001b[1;32m     13\u001b[0m \u001b[0;34m\u001b[0m\u001b[0m\n",
            "\u001b[0;32m/tmp/ipython-input-988299595.py\u001b[0m in \u001b[0;36mDNNF2dDNNF\u001b[0;34m(dnnf)\u001b[0m\n\u001b[1;32m      7\u001b[0m     \u001b[0mprint\u001b[0m\u001b[0;34m(\u001b[0m\u001b[0;34m\"atoms DNNF2dDNNF\"\u001b[0m\u001b[0;34m,\u001b[0m \u001b[0matoms\u001b[0m\u001b[0;34m)\u001b[0m\u001b[0;34m\u001b[0m\u001b[0;34m\u001b[0m\u001b[0m\n\u001b[1;32m      8\u001b[0m     \u001b[0;32mif\u001b[0m \u001b[0mdnnf\u001b[0m\u001b[0;34m.\u001b[0m\u001b[0mfunc\u001b[0m \u001b[0;34m==\u001b[0m \u001b[0mAnd\u001b[0m\u001b[0;34m:\u001b[0m\u001b[0;34m\u001b[0m\u001b[0;34m\u001b[0m\u001b[0m\n\u001b[0;32m----> 9\u001b[0;31m         \u001b[0;32mreturn\u001b[0m \u001b[0mreduce\u001b[0m\u001b[0;34m(\u001b[0m\u001b[0;32mlambda\u001b[0m \u001b[0mx\u001b[0m\u001b[0;34m,\u001b[0m \u001b[0my\u001b[0m\u001b[0;34m:\u001b[0m \u001b[0mx\u001b[0m \u001b[0;34m&\u001b[0m \u001b[0my\u001b[0m\u001b[0;34m,\u001b[0m \u001b[0mdeterministic_subs\u001b[0m\u001b[0;34m)\u001b[0m\u001b[0;34m.\u001b[0m\u001b[0msubs\u001b[0m\u001b[0;34m(\u001b[0m\u001b[0;34m{\u001b[0m\u001b[0;32mTrue\u001b[0m \u001b[0;34m|\u001b[0m \u001b[0;32mFalse\u001b[0m\u001b[0;34m:\u001b[0m \u001b[0;32mTrue\u001b[0m\u001b[0;34m,\u001b[0m \u001b[0;32mFalse\u001b[0m \u001b[0;34m|\u001b[0m \u001b[0;32mTrue\u001b[0m\u001b[0;34m:\u001b[0m \u001b[0;32mTrue\u001b[0m\u001b[0;34m,\u001b[0m \u001b[0;32mTrue\u001b[0m \u001b[0;34m&\u001b[0m \u001b[0;32mFalse\u001b[0m\u001b[0;34m:\u001b[0m \u001b[0;32mFalse\u001b[0m\u001b[0;34m,\u001b[0m \u001b[0;32mFalse\u001b[0m \u001b[0;34m&\u001b[0m \u001b[0;32mTrue\u001b[0m\u001b[0;34m:\u001b[0m \u001b[0;32mFalse\u001b[0m\u001b[0;34m}\u001b[0m\u001b[0;34m)\u001b[0m\u001b[0;34m\u001b[0m\u001b[0;34m\u001b[0m\u001b[0m\n\u001b[0m\u001b[1;32m     10\u001b[0m     \u001b[0mresult\u001b[0m \u001b[0;34m=\u001b[0m \u001b[0mreduce\u001b[0m\u001b[0;34m(\u001b[0m\u001b[0;32mlambda\u001b[0m \u001b[0mx\u001b[0m\u001b[0;34m,\u001b[0m \u001b[0my\u001b[0m\u001b[0;34m:\u001b[0m \u001b[0mx\u001b[0m \u001b[0;34m|\u001b[0m \u001b[0my\u001b[0m\u001b[0;34m,\u001b[0m \u001b[0mdeterministic_subs\u001b[0m\u001b[0;34m)\u001b[0m\u001b[0;34m.\u001b[0m\u001b[0msubs\u001b[0m\u001b[0;34m(\u001b[0m\u001b[0;34m{\u001b[0m\u001b[0;32mTrue\u001b[0m \u001b[0;34m|\u001b[0m \u001b[0;32mFalse\u001b[0m\u001b[0;34m:\u001b[0m \u001b[0;32mTrue\u001b[0m\u001b[0;34m,\u001b[0m \u001b[0;32mFalse\u001b[0m \u001b[0;34m|\u001b[0m \u001b[0;32mTrue\u001b[0m\u001b[0;34m:\u001b[0m \u001b[0;32mTrue\u001b[0m\u001b[0;34m,\u001b[0m \u001b[0;32mTrue\u001b[0m \u001b[0;34m&\u001b[0m \u001b[0;32mFalse\u001b[0m\u001b[0;34m:\u001b[0m \u001b[0;32mFalse\u001b[0m\u001b[0;34m,\u001b[0m \u001b[0;32mFalse\u001b[0m \u001b[0;34m&\u001b[0m \u001b[0;32mTrue\u001b[0m\u001b[0;34m:\u001b[0m \u001b[0;32mFalse\u001b[0m\u001b[0;34m}\u001b[0m\u001b[0;34m)\u001b[0m\u001b[0;34m\u001b[0m\u001b[0;34m\u001b[0m\u001b[0m\n\u001b[1;32m     11\u001b[0m     \u001b[0;32mfor\u001b[0m \u001b[0msubexp1\u001b[0m\u001b[0;34m,\u001b[0m \u001b[0msubexp2\u001b[0m \u001b[0;32min\u001b[0m \u001b[0mcombinations\u001b[0m\u001b[0;34m(\u001b[0m\u001b[0mdeterministic_subs\u001b[0m\u001b[0;34m,\u001b[0m \u001b[0;36m2\u001b[0m\u001b[0;34m)\u001b[0m\u001b[0;34m:\u001b[0m\u001b[0;34m\u001b[0m\u001b[0;34m\u001b[0m\u001b[0m\n",
            "\u001b[0;31mNameError\u001b[0m: name 'deterministic_subs' is not defined"
          ]
        },
        {
          "name": "stdout",
          "output_type": "stream",
          "text": [
            "> \u001b[0;32m/tmp/ipython-input-988299595.py\u001b[0m(9)\u001b[0;36mDNNF2dDNNF\u001b[0;34m()\u001b[0m\n",
            "\u001b[0;32m      7 \u001b[0;31m    \u001b[0mprint\u001b[0m\u001b[0;34m(\u001b[0m\u001b[0;34m\"atoms DNNF2dDNNF\"\u001b[0m\u001b[0;34m,\u001b[0m \u001b[0matoms\u001b[0m\u001b[0;34m)\u001b[0m\u001b[0;34m\u001b[0m\u001b[0;34m\u001b[0m\u001b[0m\n",
            "\u001b[0m\u001b[0;32m      8 \u001b[0;31m    \u001b[0;32mif\u001b[0m \u001b[0mdnnf\u001b[0m\u001b[0;34m.\u001b[0m\u001b[0mfunc\u001b[0m \u001b[0;34m==\u001b[0m \u001b[0mAnd\u001b[0m\u001b[0;34m:\u001b[0m\u001b[0;34m\u001b[0m\u001b[0;34m\u001b[0m\u001b[0m\n",
            "\u001b[0m\u001b[0;32m----> 9 \u001b[0;31m        \u001b[0;32mreturn\u001b[0m \u001b[0mreduce\u001b[0m\u001b[0;34m(\u001b[0m\u001b[0;32mlambda\u001b[0m \u001b[0mx\u001b[0m\u001b[0;34m,\u001b[0m \u001b[0my\u001b[0m\u001b[0;34m:\u001b[0m \u001b[0mx\u001b[0m \u001b[0;34m&\u001b[0m \u001b[0my\u001b[0m\u001b[0;34m,\u001b[0m \u001b[0mdeterministic_subs\u001b[0m\u001b[0;34m)\u001b[0m\u001b[0;34m.\u001b[0m\u001b[0msubs\u001b[0m\u001b[0;34m(\u001b[0m\u001b[0;34m{\u001b[0m\u001b[0;32mTrue\u001b[0m \u001b[0;34m|\u001b[0m \u001b[0;32mFalse\u001b[0m\u001b[0;34m:\u001b[0m \u001b[0;32mTrue\u001b[0m\u001b[0;34m,\u001b[0m \u001b[0;32mFalse\u001b[0m \u001b[0;34m|\u001b[0m \u001b[0;32mTrue\u001b[0m\u001b[0;34m:\u001b[0m \u001b[0;32mTrue\u001b[0m\u001b[0;34m,\u001b[0m \u001b[0;32mTrue\u001b[0m \u001b[0;34m&\u001b[0m \u001b[0;32mFalse\u001b[0m\u001b[0;34m:\u001b[0m \u001b[0;32mFalse\u001b[0m\u001b[0;34m,\u001b[0m \u001b[0;32mFalse\u001b[0m \u001b[0;34m&\u001b[0m \u001b[0;32mTrue\u001b[0m\u001b[0;34m:\u001b[0m \u001b[0;32mFalse\u001b[0m\u001b[0;34m}\u001b[0m\u001b[0;34m)\u001b[0m\u001b[0;34m\u001b[0m\u001b[0;34m\u001b[0m\u001b[0m\n",
            "\u001b[0m\u001b[0;32m     10 \u001b[0;31m    \u001b[0mresult\u001b[0m \u001b[0;34m=\u001b[0m \u001b[0mreduce\u001b[0m\u001b[0;34m(\u001b[0m\u001b[0;32mlambda\u001b[0m \u001b[0mx\u001b[0m\u001b[0;34m,\u001b[0m \u001b[0my\u001b[0m\u001b[0;34m:\u001b[0m \u001b[0mx\u001b[0m \u001b[0;34m|\u001b[0m \u001b[0my\u001b[0m\u001b[0;34m,\u001b[0m \u001b[0mdeterministic_subs\u001b[0m\u001b[0;34m)\u001b[0m\u001b[0;34m.\u001b[0m\u001b[0msubs\u001b[0m\u001b[0;34m(\u001b[0m\u001b[0;34m{\u001b[0m\u001b[0;32mTrue\u001b[0m \u001b[0;34m|\u001b[0m \u001b[0;32mFalse\u001b[0m\u001b[0;34m:\u001b[0m \u001b[0;32mTrue\u001b[0m\u001b[0;34m,\u001b[0m \u001b[0;32mFalse\u001b[0m \u001b[0;34m|\u001b[0m \u001b[0;32mTrue\u001b[0m\u001b[0;34m:\u001b[0m \u001b[0;32mTrue\u001b[0m\u001b[0;34m,\u001b[0m \u001b[0;32mTrue\u001b[0m \u001b[0;34m&\u001b[0m \u001b[0;32mFalse\u001b[0m\u001b[0;34m:\u001b[0m \u001b[0;32mFalse\u001b[0m\u001b[0;34m,\u001b[0m \u001b[0;32mFalse\u001b[0m \u001b[0;34m&\u001b[0m \u001b[0;32mTrue\u001b[0m\u001b[0;34m:\u001b[0m \u001b[0;32mFalse\u001b[0m\u001b[0;34m}\u001b[0m\u001b[0;34m)\u001b[0m\u001b[0;34m\u001b[0m\u001b[0;34m\u001b[0m\u001b[0m\n",
            "\u001b[0m\u001b[0;32m     11 \u001b[0;31m    \u001b[0;32mfor\u001b[0m \u001b[0msubexp1\u001b[0m\u001b[0;34m,\u001b[0m \u001b[0msubexp2\u001b[0m \u001b[0;32min\u001b[0m \u001b[0mcombinations\u001b[0m\u001b[0;34m(\u001b[0m\u001b[0mdeterministic_subs\u001b[0m\u001b[0;34m,\u001b[0m \u001b[0;36m2\u001b[0m\u001b[0;34m)\u001b[0m\u001b[0;34m:\u001b[0m\u001b[0;34m\u001b[0m\u001b[0;34m\u001b[0m\u001b[0m\n",
            "\u001b[0m\n"
          ]
        }
      ],
      "source": [
        "from sympy import symbols, And, Or, Not\n",
        "\n",
        "# Step 1: Definizione dei letterali\n",
        "a, b, c = symbols('{a b c}')\n",
        "\n",
        "# Step 2: Formula di esempio\n",
        "formula = Or(And(a, Not(b)), c)\n",
        "\n",
        "# Step 3: Conversione in DNNF e poi in d-DNNF\n",
        "dnnf = NNF2DNNF(formula)\n",
        "ddnnf = DNNF2dDNNF(dnnf)\n",
        "sddnnf = ddnnf2sdNNF(ddnnf)\n",
        "\n",
        "# Step 4: Definizione dei pesi (es. uniformi)\n",
        "weights = {a: 0.5, Not(a): 0.5, b: 0.5, Not(b): 0.5, c: 0.5, Not(c): 0.5}\n",
        "\n",
        "# Step 5: Conteggio dei modelli\n",
        "count = model_counting_sdnf(sddnnf, weights)\n",
        "print(f\"Model count: {count}\")"
      ]
    },
    {
      "cell_type": "code",
      "execution_count": null,
      "metadata": {
        "id": "a2eA34F3TdYk"
      },
      "outputs": [],
      "source": []
    }
  ],
  "metadata": {
    "colab": {
      "provenance": [],
      "include_colab_link": true
    },
    "kernelspec": {
      "display_name": "Python 3 (ipykernel)",
      "language": "python",
      "name": "python3"
    },
    "language_info": {
      "codemirror_mode": {
        "name": "ipython",
        "version": 3
      },
      "file_extension": ".py",
      "mimetype": "text/x-python",
      "name": "python",
      "nbconvert_exporter": "python",
      "pygments_lexer": "ipython3",
      "version": "3.11.7"
    }
  },
  "nbformat": 4,
  "nbformat_minor": 0
}